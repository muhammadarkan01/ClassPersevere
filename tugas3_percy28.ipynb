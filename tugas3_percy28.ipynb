{
 "cells": [
  {
   "cell_type": "markdown",
   "id": "aa956174",
   "metadata": {},
   "source": [
    "# Data Science"
   ]
  },
  {
   "cell_type": "markdown",
   "id": "2fd1bab5",
   "metadata": {},
   "source": [
    "- Data sains digunakan untuk menentukan rekomendasi yang diberikan untuk pengguna di *e-commerce*. Misalnya, aplikasi dari *e-commerce* menyarankan suatu jenis produk seperti aksesoris sepeda. Hal ini dituntukan oleh sistem yang dibuat oleh data saintis yang dimana sistem itu menyesuaikan produk-produk yang dicari oleh pengguna *e-commerce*\n",
    "\n",
    "- Data sains juga digunakan dalam bidang finansial. Misalnya, untuk memprediksi harga saham atau coin crypto, data saintis dibutuhkan untuk menganalisa pergerakan harga saham atau crypto tersebut berdasarkan analisa sentimen, pergerakan dari data terdahulu, dan lain-lain"
   ]
  },
  {
   "cell_type": "markdown",
   "id": "445c3f00",
   "metadata": {},
   "source": [
    "# Computer Vision"
   ]
  },
  {
   "cell_type": "markdown",
   "id": "4e8e419f",
   "metadata": {},
   "source": [
    "- *computer vision* digunakan dalam bidang manufaktur seperti untuk pengecekan secara visual terhadap pekerja atau alatnya. Program akan dilatih untuk mengenali berbagai macam anomali-anomali yang terjadi seperti pekerja tidak menggunakan helm atau masker, terjadinya kebocoran di suatu pipa dan lain-lain. Setelah program dilatih, program digunakan untuk mengawasi baik pekerja maupun mesinnya dengan kamera dan mungkin diperkuat dengan sensor-sensor lainya.\n",
    "\n",
    "- *computer vision* juga bisa digunakan untuk mendektesi lahan parkir yang kosong. Hanya dengan bermodalkan cctv yang terpasang di beberapa area di area parkir, *computer vision* dapat memprediksi dan memberitahu adanya lahan kosong dalam parkiran atau tidak."
   ]
  },
  {
   "cell_type": "markdown",
   "id": "8d7731c1",
   "metadata": {},
   "source": [
    "# NLP"
   ]
  },
  {
   "cell_type": "markdown",
   "id": "a4d3d132",
   "metadata": {},
   "source": [
    "- NLP bisa digunakan untuk memprediksi sebuah text seperti *autocorrect* dan *autocomplete*. Contoh nya seperti saat ingin melakukan pencarian di web pencarian seperti Google. Kolom dari text tersebut akan memberikan sugesti-sugesti kepada pengguna tentang apa yang akan dicari oleh pengguna baik dari kata pertama maupun huruf pertama.\n",
    "\n",
    "- NLP juga bisa digunakan sebagai filter *spam* di surat elektronik. Sistem dari NLP akan mengenali beberapa frasa atau kata yang mengandung *spam* seperti: diskon, promo, kupon, dan lainnya."
   ]
  }
 ],
 "metadata": {
  "kernelspec": {
   "display_name": "Python 3 (ipykernel)",
   "language": "python",
   "name": "python3"
  },
  "language_info": {
   "codemirror_mode": {
    "name": "ipython",
    "version": 3
   },
   "file_extension": ".py",
   "mimetype": "text/x-python",
   "name": "python",
   "nbconvert_exporter": "python",
   "pygments_lexer": "ipython3",
   "version": "3.9.7"
  }
 },
 "nbformat": 4,
 "nbformat_minor": 5
}
