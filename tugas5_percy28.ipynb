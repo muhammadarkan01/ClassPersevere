{
  "nbformat": 4,
  "nbformat_minor": 0,
  "metadata": {
    "colab": {
      "name": "tugas5_percy28",
      "provenance": [],
      "collapsed_sections": [
        "wJDFJwYXC1We",
        "4ivE2Bd0rc_E",
        "KvTGuBOmrebt"
      ]
    },
    "kernelspec": {
      "name": "python3",
      "display_name": "Python 3"
    },
    "language_info": {
      "name": "python"
    }
  },
  "cells": [
    {
      "cell_type": "markdown",
      "source": [
        "## Python OOP"
      ],
      "metadata": {
        "id": "tDkMg5K6CvWH"
      }
    },
    {
      "cell_type": "markdown",
      "source": [
        "## 1\n",
        "oop -> object oriented programing adalah konsep dari programing yang berprinsip pada data atau objek, alih - alih fungsi dan logika programing. Tujuannya agar objek mudah dan dapat digunakan berulang kali."
      ],
      "metadata": {
        "id": "wJDFJwYXC1We"
      }
    },
    {
      "cell_type": "code",
      "execution_count": null,
      "metadata": {
        "colab": {
          "base_uri": "https://localhost:8080/"
        },
        "id": "XLt_UndkCppH",
        "outputId": "f01bb19c-55d8-4fdc-83e2-32d8f7d52aa0"
      },
      "outputs": [
        {
          "output_type": "stream",
          "name": "stdout",
          "text": [
            "Employee: Harry 12000 ABC Company\n",
            "Employee: Emma 10000 ABC Company\n"
          ]
        }
      ],
      "source": [
        "class Employee:\n",
        "    # class variables\n",
        "    company_name = 'ABC Company'\n",
        "\n",
        "    # constructor to initialize the object\n",
        "    def __init__(self, name, salary):\n",
        "        # instance variables\n",
        "        self.name = name\n",
        "        self.salary = salary\n",
        "\n",
        "    # instance method\n",
        "    def show(self):\n",
        "        print('Employee:', self.name, self.salary, self.company_name)\n",
        "\n",
        "# create first object\n",
        "emp1 = Employee(\"Harry\", 12000)\n",
        "emp1.show()\n",
        "\n",
        "# create second object\n",
        "emp2 = Employee(\"Emma\", 10000)\n",
        "emp2.show()"
      ]
    },
    {
      "cell_type": "code",
      "source": [
        "class Parrot:\n",
        "    \n",
        "    # instance attributes\n",
        "    def __init__(self, name, age):\n",
        "        self.name = name\n",
        "        self.age = age\n",
        "    \n",
        "    # instance method\n",
        "    def sing(self, song):\n",
        "        return \"{} sings {}\".format(self.name, song)\n",
        "\n",
        "    def dance(self):\n",
        "        return \"{} is now dancing\".format(self.name)\n",
        "\n",
        "# instantiate the object\n",
        "blu = Parrot(\"Blu\", 10)\n",
        "\n",
        "# call our instance methods\n",
        "print(blu.sing(\"'Happy'\"))\n",
        "print(blu.dance())"
      ],
      "metadata": {
        "colab": {
          "base_uri": "https://localhost:8080/"
        },
        "id": "RUwc-I-QEjR6",
        "outputId": "10f5eca9-6331-4202-85bf-4f822a7858e5"
      },
      "execution_count": null,
      "outputs": [
        {
          "output_type": "stream",
          "name": "stdout",
          "text": [
            "Blu sings 'Happy'\n",
            "Blu is now dancing\n"
          ]
        }
      ]
    },
    {
      "cell_type": "markdown",
      "source": [
        "##2\n",
        "- Built-in : modul bawaan yang ada dari Python, contoh: print, max, min, random, dll\n",
        "- User defined : fungsi yang dibuat oleh user"
      ],
      "metadata": {
        "id": "deZ0EtYnrX_M"
      }
    },
    {
      "cell_type": "markdown",
      "source": [
        "##3"
      ],
      "metadata": {
        "id": "4ivE2Bd0rc_E"
      }
    },
    {
      "cell_type": "code",
      "source": [
        "import math as m\n",
        "x = m.sqrt(175)+ 4*m.sqrt(7) + 1/3 + m.log(81,3)\n",
        "print(x)"
      ],
      "metadata": {
        "colab": {
          "base_uri": "https://localhost:8080/"
        },
        "id": "ez0p6tU6sncm",
        "outputId": "45b34df5-215f-45e4-fa96-59a3a64fe72b"
      },
      "execution_count": null,
      "outputs": [
        {
          "output_type": "stream",
          "name": "stdout",
          "text": [
            "28.145095132914648\n"
          ]
        }
      ]
    },
    {
      "cell_type": "markdown",
      "source": [
        "##4 \n",
        "Custom Exception Handling adalah fungsi yang dibuat user agar program tidak mengembalikan *error* jika ada yang salah."
      ],
      "metadata": {
        "id": "KvTGuBOmrebt"
      }
    },
    {
      "cell_type": "code",
      "source": [
        "# define Python user-defined exceptions\n",
        "class Error(Exception):\n",
        "    \"\"\"Base class for other exceptions\"\"\"\n",
        "    pass\n",
        "\n",
        "\n",
        "class ValueTooSmallError(Error):\n",
        "    \"\"\"Raised when the input value is too small\"\"\"\n",
        "    pass\n",
        "\n",
        "\n",
        "class ValueTooLargeError(Error):\n",
        "    \"\"\"Raised when the input value is too large\"\"\"\n",
        "    pass\n",
        "\n",
        "\n",
        "# you need to guess this number\n",
        "number = 10\n",
        "\n",
        "# user guesses a number until he/she gets it right\n",
        "while True:\n",
        "    try:\n",
        "        i_num = int(input(\"Enter a number: \"))\n",
        "        if i_num < number:\n",
        "            raise ValueTooSmallError\n",
        "        elif i_num > number:\n",
        "            raise ValueTooLargeError\n",
        "        break\n",
        "    except ValueTooSmallError:\n",
        "        print(\"This value is too small, try again!\")\n",
        "        print()\n",
        "    except ValueTooLargeError:\n",
        "        print(\"This value is too large, try again!\")\n",
        "        print()\n",
        "\n",
        "print(\"Congratulations! You guessed it correctly.\")"
      ],
      "metadata": {
        "colab": {
          "base_uri": "https://localhost:8080/"
        },
        "id": "2ISLjHspuwZG",
        "outputId": "d36d54d9-05aa-4674-a75c-f931dbed898b"
      },
      "execution_count": null,
      "outputs": [
        {
          "output_type": "stream",
          "name": "stdout",
          "text": [
            "Enter a number: 3\n",
            "This value is too small, try again!\n",
            "\n",
            "Enter a number: 14\n",
            "This value is too large, try again!\n",
            "\n",
            "Enter a number: 9\n",
            "This value is too small, try again!\n",
            "\n",
            "Enter a number: 11\n",
            "This value is too large, try again!\n",
            "\n",
            "Enter a number: 10\n",
            "Congratulations! You guessed it correctly.\n"
          ]
        }
      ]
    },
    {
      "cell_type": "markdown",
      "source": [
        "# AI"
      ],
      "metadata": {
        "id": "sDOK5KP0fPfD"
      }
    },
    {
      "cell_type": "markdown",
      "source": [
        "##1\n",
        "- data terstruktur : Sekumpulan data yang memiliki atribut yang jelas dan sudah memiliki format yang ditentukan.\n",
        "- Data tak terstruktur : Kumpulan data dimana data-data terdiri dari banyak variasi tipe data dan tidak memiliki atribut yang jelas."
      ],
      "metadata": {
        "id": "b7piGGH0xJGw"
      }
    },
    {
      "cell_type": "markdown",
      "source": [
        "##2\n",
        "- AI : Program yang didesain untuk meniru pola berpikir dan berperilaku dari manusia\n",
        "- ML : Algoritma statistik yang mengaplikasikan AI berdasarkan data\n",
        "- DL : Bagian dari ML yang mempelajari tentang Neural Network"
      ],
      "metadata": {
        "id": "Rbhc_8MIxIUf"
      }
    },
    {
      "cell_type": "markdown",
      "source": [
        "##3\n",
        "- Traditional Programming : menyelesaikan masalah dimana program itu didesain berdasarkan aturan - aturan atau logika yang sudah ada atau ditentukan.\n",
        "- ML : program didesain untuk membangun model atau logika rumus yang dimana sudah ada data input dan jawabannya.\n"
      ],
      "metadata": {
        "id": "DPzzhAC9xImc"
      }
    },
    {
      "cell_type": "markdown",
      "source": [
        "##4\n",
        "\n",
        "|Smart city|Agriculture|\n",
        "|----------|-----------|\n",
        "|Prediksi kemacetan|Pendektesi Hujan|\n",
        "|Flood warning|Peringatan hama|\n",
        "|Pendektesi parkiran kosong|Otomasi panen|"
      ],
      "metadata": {
        "id": "ve8FYxFSxJav"
      }
    },
    {
      "cell_type": "markdown",
      "source": [
        "# Math for AI"
      ],
      "metadata": {
        "id": "16fGFx36fR3_"
      }
    },
    {
      "cell_type": "markdown",
      "source": [
        "##1 \n",
        "\n",
        "Karena fondasi dasar dari AI sendiri adalah perhitungan matematika\n",
        "\n"
      ],
      "metadata": {
        "id": "1YrZAJ6623M-"
      }
    },
    {
      "cell_type": "markdown",
      "source": [
        "##2\n",
        "\n",
        "|Vector|Scalar|\n",
        "|------|------|\n",
        "|nilai numerik dari vektor memiliki arah|nilai numerik skalar hanya lah nilai|\n"
      ],
      "metadata": {
        "id": "azucM_OE24FY"
      }
    },
    {
      "cell_type": "markdown",
      "source": [
        "##3\n",
        "- Euclidian : euclidian menggunakan konsep perhitungan vektor untuke menghitung jarak dari poin ke poin\n",
        "- Manhattan : manhattan menghitung jarak antara poin dengan menghitungnnya seperti grid pattern, dimana menghitung jumlah langkah untuk berangkat dari poin a menuju poin finish.\n",
        "\n"
      ],
      "metadata": {
        "id": "C0Icmnpo24Uw"
      }
    },
    {
      "cell_type": "markdown",
      "source": [
        "##4\n",
        "\n",
        "Konsep dari perhitungan matriks diperlukan dalam berbagai macam perhitungan di AI, seperti perkalian antara dataset satu dengan lainnya, grid-to-grid calculation.\n"
      ],
      "metadata": {
        "id": "ZpVqZDOp22V4"
      }
    },
    {
      "cell_type": "markdown",
      "source": [
        "# ML"
      ],
      "metadata": {
        "id": "Olua9VPSfUx9"
      }
    },
    {
      "cell_type": "markdown",
      "source": [
        "##1\n",
        "\n",
        "- Supervised : Pembelajaran yang dimana dataset itu memiliki label yang jelas seperti data excel atai csv.\n",
        "- Unsupervised : Pembelajaran yang dimana dataset tidak memiliki label yang jelas seperti kumpulan foto, audio, text dokumen atau pragraf.\n",
        "\n"
      ],
      "metadata": {
        "id": "Gt_wECYU25ZY"
      }
    },
    {
      "cell_type": "markdown",
      "source": [
        "##2\n",
        "1. menentukan tujuan dari dibuatnya machine learning\n",
        "2. mengumpulkan data\n",
        "3. menyiapkan data untuk diproses\n",
        "4. melatih model dan melakukan pengetesan terhadap model\n",
        "5. evaluasi model\n",
        "6. jika sudah puas dengan modelnya, maka sistem tersebut sudah bisa dideploy.\n",
        "\n"
      ],
      "metadata": {
        "id": "Tg20eNw825io"
      }
    },
    {
      "cell_type": "markdown",
      "source": [
        "##3\n",
        "\n",
        "- Regression : digunakan untuk memprediksi nilai yang atau data yang continous\n",
        "- Clustering : digunakan tunuk memberikan prediksi tentang pengelompokan, data yang disajikan biasannya diskrit\n",
        "\n"
      ],
      "metadata": {
        "id": "5R1kwUwJ25qU"
      }
    },
    {
      "cell_type": "markdown",
      "source": [
        "##4\n",
        "\n",
        "Artificial Neural Network adalah suatu algoritma deep learning yang didesain untuk menirukan cara kerja jaringan saraf seperti manusia. Fungsi dari ANN untuk melakukan prediksi yang dimana dataset memiliki dimensi yang luas, kompleks dan unsupervised (data foto), dan lain-lain."
      ],
      "metadata": {
        "id": "GThI2GjB2519"
      }
    }
  ]
}